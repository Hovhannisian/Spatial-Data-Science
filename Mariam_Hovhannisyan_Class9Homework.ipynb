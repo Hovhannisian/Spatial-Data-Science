{
 "cells": [
  {
   "cell_type": "markdown",
   "id": "3cb7eda3",
   "metadata": {},
   "source": [
    "Spatial Data Science\n",
    "\n",
    "Hoemwork 9\n",
    "\n",
    "Mariam Hovhannisyan"
   ]
  },
  {
   "cell_type": "code",
   "execution_count": 1,
   "id": "346fa206",
   "metadata": {},
   "outputs": [],
   "source": [
    "%matplotlib inline\n",
    "\n",
    "from pysal.model import spreg\n",
    "from pysal.lib import weights\n",
    "from pysal.explore import esda\n",
    "from shapely.geometry import Point\n",
    "from tqdm import tqdm\n",
    "from shapely.ops import nearest_points\n",
    "from pyproj import CRS\n",
    "from scipy import stats\n",
    "import statsmodels.formula.api as sm\n",
    "import numpy as np\n",
    "import osmnx as ox, geopandas as gpd, pandas as pd, networkx as nx\n",
    "import matplotlib.pyplot as plt\n",
    "import seaborn"
   ]
  },
  {
   "cell_type": "markdown",
   "id": "6bb5df50",
   "metadata": {},
   "source": [
    "Compute and plot the distances from all restaurants in Yerevan to your house."
   ]
  },
  {
   "cell_type": "code",
   "execution_count": 2,
   "id": "9f0b0761",
   "metadata": {},
   "outputs": [],
   "source": [
    "# download and project a street network\n",
    "G = ox.graph_from_place('Yerevan, Armenia', network_type=\"walk\")\n",
    "G_proj = ox.project_graph(G)\n",
    "#fig, ax = ox.plot_graph(G_proj, figsize=(20,20), node_size=2, node_color='#999999', node_edgecolor='none', node_zorder=2,\n",
    " #                       edge_color='#555555', edge_linewidth=0.7, edge_alpha=1)"
   ]
  },
  {
   "cell_type": "code",
   "execution_count": null,
   "id": "d18dee1c",
   "metadata": {},
   "outputs": [],
   "source": [
    "tags = {\"amenity\": \"restaurant\"}\n",
    "rests = ox.geometries_from_place('Yerevan, Armenia', tags)\n",
    "rests['index'] = range(0,407)\n",
    "rests.set_index(rests['index'], inplace = True, drop = True)\n",
    "\n",
    "rests = rests[(rests['geometry'].geom_type == \"Point\")]\n",
    "rests = rests[['geometry']]\n",
    "rests"
   ]
  },
  {
   "cell_type": "code",
   "execution_count": null,
   "id": "999b2904",
   "metadata": {},
   "outputs": [],
   "source": [
    "from tqdm import tqdm\n",
    "from shapely.ops import nearest_points\n",
    "\n",
    "dict_dist_to_home = {}\n",
    "home = Point(40.171427, 44.511065)\n",
    "\n",
    "for i in tqdm(range(len(rests))):\n",
    "    point = rests.loc[i, \"geometry\"]\n",
    "    origin = ox.distance.nearest_nodes(G_proj, point.coords[0][0], point.coords[0][1])\n",
    "    candidate_pt, p2 = nearest_points(home, point)\n",
    "    destination = ox.distance.nearest_nodes(G_proj, candidate_pt.coords[0][0], candidate_pt.coords[0][1])\n",
    "    try:\n",
    "        if origin!=destination:\n",
    "            dist = nx.shortest_path_length(G_proj, origin, destination, weight = \"length\")\n",
    "    except:\n",
    "        \n",
    "        dist = 'NaN'\n",
    "        pass\n",
    "\n",
    "    print(\"Distance from listing {} to my home: \".format(i), dist)\n",
    "    dict_dist_to_home[i] = dist"
   ]
  },
  {
   "cell_type": "code",
   "execution_count": null,
   "id": "35e71e6b",
   "metadata": {},
   "outputs": [],
   "source": [
    "rest_dists = np.fromiter(dist_to_rest.values(), dtype=float)\n",
    "plt.hist(rest_dists, bins=50, alpha=0.6)\n",
    "plt.show()"
   ]
  },
  {
   "cell_type": "code",
   "execution_count": null,
   "id": "dd7f9a51",
   "metadata": {},
   "outputs": [],
   "source": [
    "rests['dist_from_home'] = rests.index.map(dist_to_rest)\n",
    "rests = rests[rests['dist_from_home']!='NaN']\n",
    "rests.reset_index(inplace=True, drop=True)\n",
    "print(len(rests))\n",
    "rests.head()"
   ]
  },
  {
   "cell_type": "code",
   "execution_count": null,
   "id": "8820021e",
   "metadata": {},
   "outputs": [],
   "source": [
    "fig,ax = plt.subplots(1,figsize=(24, 30))\n",
    "\n",
    "# ox.plot_graph(G_proj, ax=ax, show=False, close=False, \\\n",
    "#               node_color='grey', node_size=0, edge_linewidth=1.5, node_alpha=0.8, node_zorder=1, edge_color='grey', \\\n",
    "#               edge_alpha=0.5)\n",
    "\n",
    "rests.plot(ax=ax, column = 'dist_from_home', cmap='coolwarm', s=15, legend=False, zorder=3)\n",
    "home.plot(ax=ax, color='green', alpha=0.8)\n",
    "\n",
    "cbax = fig.add_axes([0.8, 0.125, 0.02, 0.755])\n",
    "sm = plt.cm.ScalarMappable(cmap='coolwarm', \\\n",
    "                          norm = plt.Normalize(vmin=min(rests.dist_from_home), vmax=max(rests.dist_from_home)))\n",
    "\n",
    "sm._A = []\n",
    "\n",
    "# draw colormap into cbax\n",
    "\n",
    "fig.colorbar(sm, cax=cbax, format=\"%d\")\n",
    "\n",
    "ctx.add_basemap(\n",
    "    ax, \n",
    "    crs=rests.crs.to_string(), \n",
    "    source=ctx.providers.Stamen.Toner\n",
    ")"
   ]
  }
 ],
 "metadata": {
  "kernelspec": {
   "display_name": "Python 3",
   "language": "python",
   "name": "python3"
  },
  "language_info": {
   "codemirror_mode": {
    "name": "ipython",
    "version": 3
   },
   "file_extension": ".py",
   "mimetype": "text/x-python",
   "name": "python",
   "nbconvert_exporter": "python",
   "pygments_lexer": "ipython3",
   "version": "3.7.4"
  }
 },
 "nbformat": 4,
 "nbformat_minor": 5
}
