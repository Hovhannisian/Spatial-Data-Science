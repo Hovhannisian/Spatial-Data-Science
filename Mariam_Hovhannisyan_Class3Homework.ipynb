{
 "cells": [
  {
   "cell_type": "markdown",
   "id": "9917354b",
   "metadata": {},
   "source": [
    "Spatial Data Science\n",
    "\n",
    "Homework 3\n",
    "\n",
    "Mariam Hovhannisyan"
   ]
  },
  {
   "cell_type": "markdown",
   "id": "77a175ba",
   "metadata": {},
   "source": [
    "1. Go to the Airbnb listings data, download the data for 2 cities of your choice, then load the OpenStreetMap city polygons for those cities with osmnx, subdivide them into grid cells of size 500-1000m, compute the spreading index profiles for both cities and plot them on the same plot."
   ]
  },
  {
   "cell_type": "code",
   "execution_count": 1,
   "id": "c52560b0",
   "metadata": {},
   "outputs": [],
   "source": [
    "import esda\n",
    "import libpysal as lps\n",
    "import numpy as np\n",
    "import pandas as pd\n",
    "import matplotlib.pyplot as plt\n",
    "import geopandas as gpd, networkx as nx\n",
    "import osmnx as ox\n",
    "from descartes import PolygonPatch\n",
    "from shapely.geometry import Point, LineString, Polygon, MultiPolygon\n",
    "import shapely\n",
    "from pyproj import CRS\n",
    "from tqdm import tqdm_notebook\n",
    "from itertools import combinations, combinations_with_replacement"
   ]
  },
  {
   "cell_type": "code",
   "execution_count": 2,
   "id": "d98bf2e8",
   "metadata": {},
   "outputs": [],
   "source": [
    "city1 = ox.geocode_to_gdf(\"Berlin, Germany\")\n",
    "city2 = ox.geocode_to_gdf(\"Munich, Germany\")\n",
    "colnames = ['id', 'name', 'host_id', 'neighbourhood', 'latitude', 'longitude']\n",
    "\n",
    "city_gdf1 = pd.read_csv(\"Berlin_airbnb.csv\", header=0,usecols = colnames)\n",
    "city_gdf2 = pd.read_csv(\"Munich_airbnb.csv\", header=0,usecols = colnames)\n",
    "\n",
    "def city_gdf(city, city_gdf):\n",
    "    city = city.to_crs(\"EPSG:3068\")  #crs widely used for Germany\n",
    "    geometry = city['geometry'].iloc[0]\n",
    "\n",
    "    if isinstance(geometry, Polygon):\n",
    "        geometry = MultiPolygon([geometry])\n",
    "\n",
    "    #dividing city map into 900m square grids\n",
    "    geometry_cut = ox.utils_geo._quadrat_cut_geometry(geometry, quadrat_width=1000)\n",
    "\n",
    "    city['coords'] = city['geometry'].apply(lambda x: x.representative_point().coords[:])\n",
    "    city['coords'] = [coords[0] for coords in city['coords']]\n",
    "\n",
    "    polylist = [p for p in geometry_cut]\n",
    "\n",
    "    west, south, east, north = city.unary_union.bounds\n",
    "    polyframe = gpd.GeoDataFrame(geometry=polylist, crs = city.crs)\n",
    "    \n",
    "    geometry = [Point(xy) for xy in zip(city_gdf.latitude, city_gdf.longitude)] \n",
    "    crs = CRS.from_epsg(3068)\n",
    "    city_gdf = gpd.GeoDataFrame(city_gdf, crs = crs, geometry=geometry)\n",
    "    city_gdf.geometry= city_gdf.geometry.to_crs(polyframe.crs)\n",
    "    percell = gpd.sjoin(polyframe, city_gdf, op='contains')\n",
    "    homecounts = percell.groupby(percell.index)['index_right'].count()\n",
    "    counts = pd.DataFrame(homecounts)\n",
    "    counts.columns = ['counts']\n",
    "\n",
    "    polycounts = polyframe.copy()\n",
    "    polycounts['counts'] = counts.counts\n",
    "    polycounts['counts'].fillna(0, inplace=True)\n",
    "    polycounts['counts'] = polycounts['counts'].astype(int)\n",
    "    \n",
    "    return polycounts.tail()"
   ]
  },
  {
   "cell_type": "code",
   "execution_count": 3,
   "id": "da8cf5fa",
   "metadata": {},
   "outputs": [],
   "source": [
    "brln_polycounts = city_gdf(city1, city_gdf1)\n",
    "#brln_polycounts\n",
    "mnch_polycounts = city_gdf(city2, city_gdf2)"
   ]
  },
  {
   "cell_type": "code",
   "execution_count": 4,
   "id": "66b7ae86",
   "metadata": {},
   "outputs": [
    {
     "name": "stderr",
     "output_type": "stream",
     "text": [
      "C:\\Users\\Admin\\Anaconda3\\lib\\site-packages\\ipykernel_launcher.py:4: TqdmDeprecationWarning: This function will be removed in tqdm==5.0.0\n",
      "Please use `tqdm.notebook.tqdm` instead of `tqdm.tqdm_notebook`\n",
      "  after removing the cwd from sys.path.\n"
     ]
    },
    {
     "data": {
      "application/vnd.jupyter.widget-view+json": {
       "model_id": "20f3318618a542a3b2691b6e1f30dab3",
       "version_major": 2,
       "version_minor": 0
      },
      "text/plain": [
       "0it [00:00, ?it/s]"
      ]
     },
     "metadata": {},
     "output_type": "display_data"
    },
    {
     "ename": "KeyError",
     "evalue": "0",
     "output_type": "error",
     "traceback": [
      "\u001b[1;31m---------------------------------------------------------------------------\u001b[0m",
      "\u001b[1;31mValueError\u001b[0m                                Traceback (most recent call last)",
      "\u001b[1;32m~\\Anaconda3\\lib\\site-packages\\pandas\\core\\indexes\\range.py\u001b[0m in \u001b[0;36mget_loc\u001b[1;34m(self, key, method, tolerance)\u001b[0m\n\u001b[0;32m    384\u001b[0m                 \u001b[1;32mtry\u001b[0m\u001b[1;33m:\u001b[0m\u001b[1;33m\u001b[0m\u001b[1;33m\u001b[0m\u001b[0m\n\u001b[1;32m--> 385\u001b[1;33m                     \u001b[1;32mreturn\u001b[0m \u001b[0mself\u001b[0m\u001b[1;33m.\u001b[0m\u001b[0m_range\u001b[0m\u001b[1;33m.\u001b[0m\u001b[0mindex\u001b[0m\u001b[1;33m(\u001b[0m\u001b[0mnew_key\u001b[0m\u001b[1;33m)\u001b[0m\u001b[1;33m\u001b[0m\u001b[1;33m\u001b[0m\u001b[0m\n\u001b[0m\u001b[0;32m    386\u001b[0m                 \u001b[1;32mexcept\u001b[0m \u001b[0mValueError\u001b[0m \u001b[1;32mas\u001b[0m \u001b[0merr\u001b[0m\u001b[1;33m:\u001b[0m\u001b[1;33m\u001b[0m\u001b[1;33m\u001b[0m\u001b[0m\n",
      "\u001b[1;31mValueError\u001b[0m: 0 is not in range",
      "\nThe above exception was the direct cause of the following exception:\n",
      "\u001b[1;31mKeyError\u001b[0m                                  Traceback (most recent call last)",
      "\u001b[1;32m<ipython-input-4-f356a4b928db>\u001b[0m in \u001b[0;36m<module>\u001b[1;34m\u001b[0m\n\u001b[0;32m      8\u001b[0m     \u001b[1;32mreturn\u001b[0m \u001b[0meucl\u001b[0m\u001b[1;33m\u001b[0m\u001b[1;33m\u001b[0m\u001b[0m\n\u001b[0;32m      9\u001b[0m \u001b[1;33m\u001b[0m\u001b[0m\n\u001b[1;32m---> 10\u001b[1;33m \u001b[0mbrln_eucl\u001b[0m \u001b[1;33m=\u001b[0m \u001b[0meucl\u001b[0m\u001b[1;33m(\u001b[0m\u001b[0mbrln_polycounts\u001b[0m\u001b[1;33m)\u001b[0m\u001b[1;33m\u001b[0m\u001b[1;33m\u001b[0m\u001b[0m\n\u001b[0m\u001b[0;32m     11\u001b[0m \u001b[0mmnch_eucl\u001b[0m \u001b[1;33m=\u001b[0m \u001b[0meucl\u001b[0m\u001b[1;33m(\u001b[0m\u001b[0mmnch_polycounts\u001b[0m\u001b[1;33m)\u001b[0m\u001b[1;33m\u001b[0m\u001b[1;33m\u001b[0m\u001b[0m\n\u001b[0;32m     12\u001b[0m \u001b[0mbrln_eucl\u001b[0m\u001b[1;33m\u001b[0m\u001b[1;33m\u001b[0m\u001b[0m\n",
      "\u001b[1;32m<ipython-input-4-f356a4b928db>\u001b[0m in \u001b[0;36meucl\u001b[1;34m(polycounts)\u001b[0m\n\u001b[0;32m      3\u001b[0m     \u001b[0mmat\u001b[0m \u001b[1;33m=\u001b[0m \u001b[0mnp\u001b[0m\u001b[1;33m.\u001b[0m\u001b[0mzeros\u001b[0m\u001b[1;33m(\u001b[0m\u001b[0mshape\u001b[0m\u001b[1;33m=\u001b[0m\u001b[1;33m(\u001b[0m\u001b[0mn\u001b[0m\u001b[1;33m,\u001b[0m \u001b[0mn\u001b[0m\u001b[1;33m)\u001b[0m\u001b[1;33m)\u001b[0m\u001b[1;33m\u001b[0m\u001b[1;33m\u001b[0m\u001b[0m\n\u001b[0;32m      4\u001b[0m     \u001b[1;32mfor\u001b[0m \u001b[0mpair\u001b[0m \u001b[1;32min\u001b[0m \u001b[0mtqdm_notebook\u001b[0m\u001b[1;33m(\u001b[0m\u001b[0mcombinations\u001b[0m\u001b[1;33m(\u001b[0m\u001b[0mnp\u001b[0m\u001b[1;33m.\u001b[0m\u001b[0marange\u001b[0m\u001b[1;33m(\u001b[0m\u001b[0mn\u001b[0m\u001b[1;33m)\u001b[0m\u001b[1;33m,\u001b[0m \u001b[1;36m2\u001b[0m\u001b[1;33m)\u001b[0m\u001b[1;33m)\u001b[0m\u001b[1;33m:\u001b[0m\u001b[1;33m\u001b[0m\u001b[1;33m\u001b[0m\u001b[0m\n\u001b[1;32m----> 5\u001b[1;33m         \u001b[0mmat\u001b[0m\u001b[1;33m[\u001b[0m\u001b[0mpair\u001b[0m\u001b[1;33m[\u001b[0m\u001b[1;36m0\u001b[0m\u001b[1;33m]\u001b[0m\u001b[1;33m,\u001b[0m \u001b[0mpair\u001b[0m\u001b[1;33m[\u001b[0m\u001b[1;36m1\u001b[0m\u001b[1;33m]\u001b[0m\u001b[1;33m]\u001b[0m \u001b[1;33m=\u001b[0m \u001b[0mpolycounts\u001b[0m\u001b[1;33m.\u001b[0m\u001b[0mgeometry\u001b[0m\u001b[1;33m[\u001b[0m\u001b[0mpair\u001b[0m\u001b[1;33m[\u001b[0m\u001b[1;36m0\u001b[0m\u001b[1;33m]\u001b[0m\u001b[1;33m]\u001b[0m\u001b[1;33m.\u001b[0m\u001b[0mcentroid\u001b[0m\u001b[1;33m.\u001b[0m\u001b[0mdistance\u001b[0m\u001b[1;33m(\u001b[0m\u001b[0mpolycounts\u001b[0m\u001b[1;33m.\u001b[0m\u001b[0mgeometry\u001b[0m\u001b[1;33m[\u001b[0m\u001b[0mpair\u001b[0m\u001b[1;33m[\u001b[0m\u001b[1;36m1\u001b[0m\u001b[1;33m]\u001b[0m\u001b[1;33m]\u001b[0m\u001b[1;33m.\u001b[0m\u001b[0mcentroid\u001b[0m\u001b[1;33m)\u001b[0m\u001b[1;33m\u001b[0m\u001b[1;33m\u001b[0m\u001b[0m\n\u001b[0m\u001b[0;32m      6\u001b[0m \u001b[1;33m\u001b[0m\u001b[0m\n\u001b[0;32m      7\u001b[0m     \u001b[0meucl\u001b[0m \u001b[1;33m=\u001b[0m \u001b[0mnp\u001b[0m\u001b[1;33m.\u001b[0m\u001b[0mmaximum\u001b[0m\u001b[1;33m(\u001b[0m\u001b[0mmat\u001b[0m\u001b[1;33m,\u001b[0m \u001b[0mmat\u001b[0m\u001b[1;33m.\u001b[0m\u001b[0mtranspose\u001b[0m\u001b[1;33m(\u001b[0m\u001b[1;33m)\u001b[0m\u001b[1;33m)\u001b[0m\u001b[1;33m\u001b[0m\u001b[1;33m\u001b[0m\u001b[0m\n",
      "\u001b[1;32m~\\Anaconda3\\lib\\site-packages\\geopandas\\geoseries.py\u001b[0m in \u001b[0;36m__getitem__\u001b[1;34m(self, key)\u001b[0m\n\u001b[0;32m    556\u001b[0m \u001b[1;33m\u001b[0m\u001b[0m\n\u001b[0;32m    557\u001b[0m     \u001b[1;32mdef\u001b[0m \u001b[0m__getitem__\u001b[0m\u001b[1;33m(\u001b[0m\u001b[0mself\u001b[0m\u001b[1;33m,\u001b[0m \u001b[0mkey\u001b[0m\u001b[1;33m)\u001b[0m\u001b[1;33m:\u001b[0m\u001b[1;33m\u001b[0m\u001b[1;33m\u001b[0m\u001b[0m\n\u001b[1;32m--> 558\u001b[1;33m         \u001b[1;32mreturn\u001b[0m \u001b[0mself\u001b[0m\u001b[1;33m.\u001b[0m\u001b[0m_wrapped_pandas_method\u001b[0m\u001b[1;33m(\u001b[0m\u001b[1;34m\"__getitem__\"\u001b[0m\u001b[1;33m,\u001b[0m \u001b[0mkey\u001b[0m\u001b[1;33m)\u001b[0m\u001b[1;33m\u001b[0m\u001b[1;33m\u001b[0m\u001b[0m\n\u001b[0m\u001b[0;32m    559\u001b[0m \u001b[1;33m\u001b[0m\u001b[0m\n\u001b[0;32m    560\u001b[0m     \u001b[1;33m@\u001b[0m\u001b[0minherit_doc\u001b[0m\u001b[1;33m(\u001b[0m\u001b[0mpd\u001b[0m\u001b[1;33m.\u001b[0m\u001b[0mSeries\u001b[0m\u001b[1;33m)\u001b[0m\u001b[1;33m\u001b[0m\u001b[1;33m\u001b[0m\u001b[0m\n",
      "\u001b[1;32m~\\Anaconda3\\lib\\site-packages\\geopandas\\geoseries.py\u001b[0m in \u001b[0;36m_wrapped_pandas_method\u001b[1;34m(self, mtd, *args, **kwargs)\u001b[0m\n\u001b[0;32m    549\u001b[0m     \u001b[1;32mdef\u001b[0m \u001b[0m_wrapped_pandas_method\u001b[0m\u001b[1;33m(\u001b[0m\u001b[0mself\u001b[0m\u001b[1;33m,\u001b[0m \u001b[0mmtd\u001b[0m\u001b[1;33m,\u001b[0m \u001b[1;33m*\u001b[0m\u001b[0margs\u001b[0m\u001b[1;33m,\u001b[0m \u001b[1;33m**\u001b[0m\u001b[0mkwargs\u001b[0m\u001b[1;33m)\u001b[0m\u001b[1;33m:\u001b[0m\u001b[1;33m\u001b[0m\u001b[1;33m\u001b[0m\u001b[0m\n\u001b[0;32m    550\u001b[0m         \u001b[1;34m\"\"\"Wrap a generic pandas method to ensure it returns a GeoSeries\"\"\"\u001b[0m\u001b[1;33m\u001b[0m\u001b[1;33m\u001b[0m\u001b[0m\n\u001b[1;32m--> 551\u001b[1;33m         \u001b[0mval\u001b[0m \u001b[1;33m=\u001b[0m \u001b[0mgetattr\u001b[0m\u001b[1;33m(\u001b[0m\u001b[0msuper\u001b[0m\u001b[1;33m(\u001b[0m\u001b[0mGeoSeries\u001b[0m\u001b[1;33m,\u001b[0m \u001b[0mself\u001b[0m\u001b[1;33m)\u001b[0m\u001b[1;33m,\u001b[0m \u001b[0mmtd\u001b[0m\u001b[1;33m)\u001b[0m\u001b[1;33m(\u001b[0m\u001b[1;33m*\u001b[0m\u001b[0margs\u001b[0m\u001b[1;33m,\u001b[0m \u001b[1;33m**\u001b[0m\u001b[0mkwargs\u001b[0m\u001b[1;33m)\u001b[0m\u001b[1;33m\u001b[0m\u001b[1;33m\u001b[0m\u001b[0m\n\u001b[0m\u001b[0;32m    552\u001b[0m         \u001b[1;32mif\u001b[0m \u001b[0mtype\u001b[0m\u001b[1;33m(\u001b[0m\u001b[0mval\u001b[0m\u001b[1;33m)\u001b[0m \u001b[1;33m==\u001b[0m \u001b[0mSeries\u001b[0m\u001b[1;33m:\u001b[0m\u001b[1;33m\u001b[0m\u001b[1;33m\u001b[0m\u001b[0m\n\u001b[0;32m    553\u001b[0m             \u001b[0mval\u001b[0m\u001b[1;33m.\u001b[0m\u001b[0m__class__\u001b[0m \u001b[1;33m=\u001b[0m \u001b[0mGeoSeries\u001b[0m\u001b[1;33m\u001b[0m\u001b[1;33m\u001b[0m\u001b[0m\n",
      "\u001b[1;32m~\\Anaconda3\\lib\\site-packages\\pandas\\core\\series.py\u001b[0m in \u001b[0;36m__getitem__\u001b[1;34m(self, key)\u001b[0m\n\u001b[0;32m    940\u001b[0m \u001b[1;33m\u001b[0m\u001b[0m\n\u001b[0;32m    941\u001b[0m         \u001b[1;32melif\u001b[0m \u001b[0mkey_is_scalar\u001b[0m\u001b[1;33m:\u001b[0m\u001b[1;33m\u001b[0m\u001b[1;33m\u001b[0m\u001b[0m\n\u001b[1;32m--> 942\u001b[1;33m             \u001b[1;32mreturn\u001b[0m \u001b[0mself\u001b[0m\u001b[1;33m.\u001b[0m\u001b[0m_get_value\u001b[0m\u001b[1;33m(\u001b[0m\u001b[0mkey\u001b[0m\u001b[1;33m)\u001b[0m\u001b[1;33m\u001b[0m\u001b[1;33m\u001b[0m\u001b[0m\n\u001b[0m\u001b[0;32m    943\u001b[0m \u001b[1;33m\u001b[0m\u001b[0m\n\u001b[0;32m    944\u001b[0m         \u001b[1;32mif\u001b[0m \u001b[0mis_hashable\u001b[0m\u001b[1;33m(\u001b[0m\u001b[0mkey\u001b[0m\u001b[1;33m)\u001b[0m\u001b[1;33m:\u001b[0m\u001b[1;33m\u001b[0m\u001b[1;33m\u001b[0m\u001b[0m\n",
      "\u001b[1;32m~\\Anaconda3\\lib\\site-packages\\pandas\\core\\series.py\u001b[0m in \u001b[0;36m_get_value\u001b[1;34m(self, label, takeable)\u001b[0m\n\u001b[0;32m   1049\u001b[0m \u001b[1;33m\u001b[0m\u001b[0m\n\u001b[0;32m   1050\u001b[0m         \u001b[1;31m# Similar to Index.get_value, but we do not fall back to positional\u001b[0m\u001b[1;33m\u001b[0m\u001b[1;33m\u001b[0m\u001b[1;33m\u001b[0m\u001b[0m\n\u001b[1;32m-> 1051\u001b[1;33m         \u001b[0mloc\u001b[0m \u001b[1;33m=\u001b[0m \u001b[0mself\u001b[0m\u001b[1;33m.\u001b[0m\u001b[0mindex\u001b[0m\u001b[1;33m.\u001b[0m\u001b[0mget_loc\u001b[0m\u001b[1;33m(\u001b[0m\u001b[0mlabel\u001b[0m\u001b[1;33m)\u001b[0m\u001b[1;33m\u001b[0m\u001b[1;33m\u001b[0m\u001b[0m\n\u001b[0m\u001b[0;32m   1052\u001b[0m         \u001b[1;32mreturn\u001b[0m \u001b[0mself\u001b[0m\u001b[1;33m.\u001b[0m\u001b[0mindex\u001b[0m\u001b[1;33m.\u001b[0m\u001b[0m_get_values_for_loc\u001b[0m\u001b[1;33m(\u001b[0m\u001b[0mself\u001b[0m\u001b[1;33m,\u001b[0m \u001b[0mloc\u001b[0m\u001b[1;33m,\u001b[0m \u001b[0mlabel\u001b[0m\u001b[1;33m)\u001b[0m\u001b[1;33m\u001b[0m\u001b[1;33m\u001b[0m\u001b[0m\n\u001b[0;32m   1053\u001b[0m \u001b[1;33m\u001b[0m\u001b[0m\n",
      "\u001b[1;32m~\\Anaconda3\\lib\\site-packages\\pandas\\core\\indexes\\range.py\u001b[0m in \u001b[0;36mget_loc\u001b[1;34m(self, key, method, tolerance)\u001b[0m\n\u001b[0;32m    385\u001b[0m                     \u001b[1;32mreturn\u001b[0m \u001b[0mself\u001b[0m\u001b[1;33m.\u001b[0m\u001b[0m_range\u001b[0m\u001b[1;33m.\u001b[0m\u001b[0mindex\u001b[0m\u001b[1;33m(\u001b[0m\u001b[0mnew_key\u001b[0m\u001b[1;33m)\u001b[0m\u001b[1;33m\u001b[0m\u001b[1;33m\u001b[0m\u001b[0m\n\u001b[0;32m    386\u001b[0m                 \u001b[1;32mexcept\u001b[0m \u001b[0mValueError\u001b[0m \u001b[1;32mas\u001b[0m \u001b[0merr\u001b[0m\u001b[1;33m:\u001b[0m\u001b[1;33m\u001b[0m\u001b[1;33m\u001b[0m\u001b[0m\n\u001b[1;32m--> 387\u001b[1;33m                     \u001b[1;32mraise\u001b[0m \u001b[0mKeyError\u001b[0m\u001b[1;33m(\u001b[0m\u001b[0mkey\u001b[0m\u001b[1;33m)\u001b[0m \u001b[1;32mfrom\u001b[0m \u001b[0merr\u001b[0m\u001b[1;33m\u001b[0m\u001b[1;33m\u001b[0m\u001b[0m\n\u001b[0m\u001b[0;32m    388\u001b[0m             \u001b[1;32mraise\u001b[0m \u001b[0mKeyError\u001b[0m\u001b[1;33m(\u001b[0m\u001b[0mkey\u001b[0m\u001b[1;33m)\u001b[0m\u001b[1;33m\u001b[0m\u001b[1;33m\u001b[0m\u001b[0m\n\u001b[0;32m    389\u001b[0m         \u001b[1;32mreturn\u001b[0m \u001b[0msuper\u001b[0m\u001b[1;33m(\u001b[0m\u001b[1;33m)\u001b[0m\u001b[1;33m.\u001b[0m\u001b[0mget_loc\u001b[0m\u001b[1;33m(\u001b[0m\u001b[0mkey\u001b[0m\u001b[1;33m,\u001b[0m \u001b[0mmethod\u001b[0m\u001b[1;33m=\u001b[0m\u001b[0mmethod\u001b[0m\u001b[1;33m,\u001b[0m \u001b[0mtolerance\u001b[0m\u001b[1;33m=\u001b[0m\u001b[0mtolerance\u001b[0m\u001b[1;33m)\u001b[0m\u001b[1;33m\u001b[0m\u001b[1;33m\u001b[0m\u001b[0m\n",
      "\u001b[1;31mKeyError\u001b[0m: 0"
     ]
    }
   ],
   "source": [
    "def eucl(polycounts):\n",
    "    n= len(polycounts)\n",
    "    mat = np.zeros(shape=(n, n))\n",
    "    for pair in tqdm_notebook(combinations(np.arange(n), 2)):\n",
    "        mat[pair[0], pair[1]] = polycounts.geometry[pair[0]].centroid.distance(polycounts.geometry[pair[1]].centroid)\n",
    "\n",
    "    eucl = np.maximum(mat, mat.transpose())\n",
    "    return eucl\n",
    "\n",
    "brln_eucl = eucl(brln_polycounts)\n",
    "mnch_eucl = eucl(mnch_polycounts)\n",
    "brln_eucl"
   ]
  },
  {
   "cell_type": "code",
   "execution_count": null,
   "id": "bb2b4f2f",
   "metadata": {},
   "outputs": [],
   "source": [
    "lval_brln = np.linspace(0, max(brln_polycounts.counts), 100) \n",
    "lval_mnch = np.linspace(0, max(mnch_polycounts.counts), 100)\n",
    "\n",
    "cities_dist = {'Berlin data': [brln_polycounts.counts, brln_eucl, lval_brln], \n",
    "               'Munich data': [mnch_polycounts.counts, mnch_eucl, lval_mnch]}\n",
    "shuffled_etas = {}  #dictionary with 2 key-value pair\n",
    "\n",
    "for key, distribution in tqdm_notebook(cities_dist.items()):\n",
    "    if key == 'Berlin data':\n",
    "        eucl = brln_eucl \n",
    "        lval =lval_brln\n",
    "    else:\n",
    "        eucl = mnch_eucl\n",
    "        lval = lval_mnch\n",
    "\n",
    "    lorentz_vals = distribution.to_dict()\n",
    "    etas = []\n",
    "\n",
    "    s = [(k, lorentz_vals[k]) for k in sorted(lorentz_vals, key=lorentz_vals.get)]\n",
    "    keys = []\n",
    "    vals = []\n",
    "    for k,v in s:\n",
    "        keys.append(k)\n",
    "        vals.append(v)\n",
    "\n",
    "    vals = np.array(vals)\n",
    "    keys = np.array(keys)\n",
    "    L = np.cumsum(vals)/np.sum(vals)\n",
    "\n",
    "    for i in lval:\n",
    "        loubar_keys = keys[vals>=i]\n",
    "        dist_mat = eucl[keys.reshape(-1,1), keys]  #will get matrix for Brln for the 2st loop, and for mnch for teh 2nd\n",
    "        dist_corr = dist_mat[dist_mat>0]\n",
    "\n",
    "        loubar_dist_mat = eucl[loubar_keys.reshape(-1,1), loubar_keys]\n",
    "        loubar_dist = loubar_dist_mat.sum()\n",
    "\n",
    "        loubar_dist_corr = loubar_dist_mat[loubar_dist_mat>0]\n",
    "        eta = loubar_dist_corr.mean()/dist_corr.mean()\n",
    "        etas.append(eta)\n",
    "    etas = np.array(etas)\n",
    "    etas = np.where(np.isnan(etas), 0, etas)\n",
    "    lval = lval/lval.max()\n",
    "    shuffled_etas[key] = [etas, lval]\n",
    "    \n",
    "\n",
    "fig, ax = plt.subplots(figsize=(16, 8))\n",
    "for key, vals in shuffled_etas.items(): \n",
    "    ax.plot(vals[0], vals[1], linestyle='--', marker='o', markersize=4, linewidth=1,label=key) \n",
    "\n",
    "plt.xlabel(\" \")\n",
    "plt.ylabel(\"eta\")\n",
    "plt.ylim(0,1.5)\n",
    "plt.show()"
   ]
  },
  {
   "cell_type": "markdown",
   "id": "f392d10b",
   "metadata": {},
   "source": [
    "2. From the Airbnb listings data, get the neighbourhood files for one of the cities chosen above and conduct the spatial autocorrelation analysis you learned in this class for that city."
   ]
  },
  {
   "cell_type": "code",
   "execution_count": null,
   "id": "b5320d9d",
   "metadata": {},
   "outputs": [],
   "source": [
    "brln_nbr = gpd.read_file(\"neighbourhoods.geojson\", driver=\"GeoJSON\")\n",
    "crs = CRS.from_epsg(3068)\n",
    "brln_nbr = brln_nbr.to_crs(crs)\n",
    "\n",
    "#brln_nbr.type\n",
    "brln_nbr.head()\n",
    "brln_nbr.geometry.plot()"
   ]
  },
  {
   "cell_type": "code",
   "execution_count": null,
   "id": "051760f0",
   "metadata": {},
   "outputs": [],
   "source": [
    "city_gdf1 = pd.read_csv(\"Berlin_airbnb.csv\", header=0,usecols = colnames)\n",
    "geometry = [Point(xy) for xy in zip(city_gdf1.latitude, city_gdf1.longitude)] \n",
    "crs = CRS.from_epsg(3068)\n",
    "brln_gdf = gpd.GeoDataFrame(city_gdf1, crs = crs, geometry=geometry)\n",
    "brln_gdf.geometry= brln_gdf.geometry.to_crs(brln_nbr.crs)\n",
    "brln_gdf"
   ]
  },
  {
   "cell_type": "code",
   "execution_count": null,
   "id": "1ebc09da",
   "metadata": {},
   "outputs": [],
   "source": [
    "brln_join = gpd.sjoin(brln_gdf,brln_nbr, op='contains')\n",
    "brln_join.head()\n",
    "\n",
    "counts = brln_join.groupby(brln_join.index)['index_right'].count()\n",
    "counts = pd.DataFrame(counts)\n",
    "counts.columns = ['counts']\n",
    "\n",
    "plt.hist(counts.counts, bins=40)\n",
    "plt.show()"
   ]
  },
  {
   "cell_type": "code",
   "execution_count": null,
   "id": "fcfe7c0e",
   "metadata": {},
   "outputs": [],
   "source": [
    "polycounts = brln_nbr.copy()\n",
    "polycounts['counts'] = counts.counts\n",
    "polycounts['counts'].fillna(0, inplace=True)\n",
    "polycounts['counts'] = polycounts['counts'].astype(int)\n",
    "polycounts\n",
    "\n",
    "plt.rcParams.update({'font.size':16})\n",
    "west, south, east, north = brln_nbr.unary_union.bounds\n",
    "\n",
    "fig, ax = plt.subplots(figsize=(12,10), subplot_kw={'aspect':'equal'})\n",
    "\n",
    "brln_nbr.plot(ax=ax, color='#000004')\n",
    "polycounts.plot(column='counts', scheme='Quantiles', k=5, cmap='GnBu', legend=True, ax=ax)\n",
    "ax.set_xlim(west, east)\n",
    "ax.set_ylim(south, north)\n",
    "ax.axis('off')\n",
    "plt.show()"
   ]
  },
  {
   "cell_type": "code",
   "execution_count": null,
   "id": "71c1addd",
   "metadata": {},
   "outputs": [],
   "source": [
    "wr = lps.weights.contiguity.Rook.from_dataframe(polycounts)\n",
    "#print(wr.pct_nonzero)\n",
    "s = pd.Series(wr.cardinalities)\n",
    "s.plot.hist(bins=s.unique().shape[0]);"
   ]
  },
  {
   "cell_type": "code",
   "execution_count": null,
   "id": "1335e17f",
   "metadata": {},
   "outputs": [],
   "source": [
    "wq = lps.weights.Queen.from_dataframe(polycounts)\n",
    "wq.transform = 'r'\n",
    "\n",
    "wq.neighbors"
   ]
  },
  {
   "cell_type": "code",
   "execution_count": null,
   "id": "8a641747",
   "metadata": {},
   "outputs": [],
   "source": [
    "#adding the closest neighbour to the disconnected ones\n",
    "disconnected_neighs = polycounts.iloc[[83, 114, 120]]\n",
    "disconnected_neighs\n",
    "\n",
    "wk1 = lps.weights.distance.KNN.from_dataframe(polycounts, k=1)\n",
    "wq.neighbors.append(83)\n",
    "wq.neighbors.append(114)\n",
    "wq.neighbors.append(120)\n",
    "\n",
    "w_new = lps.weights.W(wq.neighbors)"
   ]
  },
  {
   "cell_type": "code",
   "execution_count": null,
   "id": "ce18614a",
   "metadata": {},
   "outputs": [],
   "source": [
    "y = polycounts['counts']\n",
    "ylag = lps.weights.lag_spatial(w_new, y)\n",
    "polycounts['lag_counts'] = ylag\n",
    "\n",
    "ylagq5 = mc.Quantiles(ylag, k=5)"
   ]
  },
  {
   "cell_type": "code",
   "execution_count": null,
   "id": "165957fa",
   "metadata": {},
   "outputs": [],
   "source": [
    "f, ax = plt.subplots(1,2,figsize=(20,8))\n",
    "polycounts.plot(column='counts', ax=ax[0], edgecolor='grey', linewidth=0.25,\n",
    "        scheme=\"quantiles\",  k=5, cmap='GnBu')\n",
    "ax[0].axis(polycounts.total_bounds[np.asarray([0,2,1,3])])\n",
    "ax[0].set_title(\"Counts\")\n",
    "polycounts.plot(column='lag_counts', ax=ax[1], edgecolor='grey', linewidth=0.25,\n",
    "        scheme='quantiles', cmap='GnBu', k=5)\n",
    "ax[1].axis(polycounts.total_bounds[np.asarray([0,2,1,3])])\n",
    "ax[1].set_title(\"Spatial Lag counts\")\n",
    "ax[0].axis('off')\n",
    "ax[1].axis('off')\n",
    "plt.show()"
   ]
  },
  {
   "cell_type": "code",
   "execution_count": null,
   "id": "bb0b9a2c",
   "metadata": {},
   "outputs": [],
   "source": [
    "y.median()\n",
    "yb = y > y.median()\n",
    "sum(yb)\n",
    "\n",
    "labels = [\"0 Low\", \"1 High\"]\n",
    "yb = [labels[i] for i in 1*yb] \n",
    "polycounts['yb'] = yb\n",
    "\n",
    "fig, ax = plt.subplots(figsize=(12,10), subplot_kw={'aspect':'equal'})\n",
    "polycounts.plot(column='yb', cmap='binary', edgecolor='grey', legend=True, ax=ax)"
   ]
  },
  {
   "cell_type": "code",
   "execution_count": null,
   "id": "9d8d1b55",
   "metadata": {},
   "outputs": [],
   "source": [
    "sbn.kdeplot(sim_array, shade=True)\n",
    "plt.vlines(jc.bb, 0, 0.075, color='r')\n",
    "plt.vlines(jc.mean_bb, 0,0.075)\n",
    "plt.xlabel('BB Counts')"
   ]
  },
  {
   "cell_type": "code",
   "execution_count": null,
   "id": "1963fa4e",
   "metadata": {},
   "outputs": [],
   "source": [
    "np.random.seed(10000)\n",
    "mi = esda.moran.Moran(y, w_new)\n",
    "#mi.I\n",
    "\n",
    "sbn.kdeplot(mi.sim, shade=True)\n",
    "plt.vlines(mi.I, 0, 1, color='r')\n",
    "plt.vlines(mi.EI, 0,1)\n",
    "plt.xlabel(\"Moran's I\")"
   ]
  },
  {
   "cell_type": "code",
   "execution_count": null,
   "id": "af793cba",
   "metadata": {},
   "outputs": [],
   "source": [
    "w_new.transform = 'r'\n",
    "lag_home_counts = lps.weights.lag_spatial(w_new, y)\n",
    "\n",
    "b, a = np.polyfit(y, lag_home_counts, 1)\n",
    "f, ax = plt.subplots(1, figsize=(9, 9))\n",
    "plt.plot(y, lag_home_counts, '.', color='firebrick')\n",
    "plt.vlines(y.mean(), lag_home_counts.min(), lag_home_counts.max(), linestyle='--')\n",
    "plt.hlines(lag_home_counts.mean(), y.min(), y.max(), linestyle='--')\n",
    "\n",
    "# red line of best fit using global I as slope\n",
    "plt.plot(y, a + b*y, 'r')\n",
    "plt.title('Moran Scatterplot')\n",
    "plt.ylabel('Spatial Lag of Airbnb counts')\n",
    "plt.xlabel('Airbnb counts')"
   ]
  },
  {
   "cell_type": "code",
   "execution_count": null,
   "id": "24c525eb",
   "metadata": {},
   "outputs": [],
   "source": [
    "li = esda.moran.Moran_Local(y, w_new)\n",
    "li.q\n",
    "(li.p_sim < 0.05).sum()\n",
    "\n",
    "sig = li.p_sim < 0.05\n",
    "hotspot = sig * li.q==1\n",
    "coldspot = sig * li.q==3\n",
    "doughnut = sig * li.q==2\n",
    "diamond = sig * li.q==4\n",
    "\n",
    "spot_labels = [ '0 ns', '1 hot spot', '2 doughnut', '3 cold spot', '4 diamond']\n",
    "labels = [spot_labels[i] for i in spots]"
   ]
  },
  {
   "cell_type": "code",
   "execution_count": null,
   "id": "6e54df42",
   "metadata": {},
   "outputs": [],
   "source": [
    "from matplotlib import colors\n",
    "hmap = colors.ListedColormap([ 'lightgrey', 'red', 'pink', 'lightblue', 'blue'])\n",
    "f, ax = plt.subplots(1, figsize=(9, 9))\n",
    "polycounts.assign(cl=labels).plot(column='cl', categorical=True, \\\n",
    "        k=2, cmap=hmap, linewidth=0.1, ax=ax, \\\n",
    "        edgecolor='white', legend=True)\n",
    "ax.set_axis_off()\n",
    "plt.show()"
   ]
  }
 ],
 "metadata": {
  "kernelspec": {
   "display_name": "Python 3",
   "language": "python",
   "name": "python3"
  },
  "language_info": {
   "codemirror_mode": {
    "name": "ipython",
    "version": 3
   },
   "file_extension": ".py",
   "mimetype": "text/x-python",
   "name": "python",
   "nbconvert_exporter": "python",
   "pygments_lexer": "ipython3",
   "version": "3.7.4"
  }
 },
 "nbformat": 4,
 "nbformat_minor": 5
}
